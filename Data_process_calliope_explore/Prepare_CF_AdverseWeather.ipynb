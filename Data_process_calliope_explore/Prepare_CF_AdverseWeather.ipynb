{
 "cells": [
  {
   "cell_type": "code",
   "execution_count": 11,
   "metadata": {},
   "outputs": [],
   "source": [
    "# Script to prepare the capacity factors in the right format to run Calliope\n",
    "# Noe\n",
    "import pandas as pd\n",
    "import geopandas as gpd\n",
    "import numpy as np\n",
    "import math\n",
    "import xarray as xr\n"
   ]
  },
  {
   "cell_type": "code",
   "execution_count": 12,
   "metadata": {},
   "outputs": [],
   "source": [
    "# files\n",
    "maindir = '/gws/pw/j05/cop26_hackathons/oxford/Group_folders/group_2/Data/'\n",
    "# read Adverse Weather\n",
    "cap_file= pd.read_csv(maindir + \"AdverseWeather_testdataforCalliope.csv\")"
   ]
  },
  {
   "cell_type": "code",
   "execution_count": 13,
   "metadata": {},
   "outputs": [],
   "source": [
    "# Split the columns into separete data.frames and save\n",
    "electricity_demand = cap_file[['Date','Demand']]\n",
    "electricity_demand.columns= ['time','UK']\n",
    "capacity_factor_AWS_wind = cap_file[['Date','Wind_cap']]\n",
    "capacity_factor_AWS_wind.columns= ['time','UK']\n",
    "capacity_factor_AWS_pv = cap_file[['Date','Sol_cap']]\n",
    "capacity_factor_AWS_pv.columns= ['time','UK']\n"
   ]
  },
  {
   "cell_type": "code",
   "execution_count": 14,
   "metadata": {},
   "outputs": [],
   "source": [
    "electricity_demand.to_csv('electricity_demand_AWS' + \".csv\", sep = \",\", index = False)\n",
    "capacity_factor_AWS_wind.to_csv('capacity_factor_AWS_wind' + \".csv\", sep = \",\", index = False)\n",
    "capacity_factor_AWS_pv.to_csv('capacity_factor_AWS_pv' + \".csv\", sep = \",\", index = False)"
   ]
  },
  {
   "cell_type": "code",
   "execution_count": 349,
   "metadata": {},
   "outputs": [
    {
     "data": {
      "text/plain": [
       "array([[[ 7.],\n",
       "        [ 7.],\n",
       "        [ 6.],\n",
       "        ...,\n",
       "        [ 4.],\n",
       "        [ 4.],\n",
       "        [ 5.]],\n",
       "\n",
       "       [[ 7.],\n",
       "        [ 7.],\n",
       "        [ 7.],\n",
       "        ...,\n",
       "        [ 4.],\n",
       "        [ 4.],\n",
       "        [ 4.]],\n",
       "\n",
       "       [[11.],\n",
       "        [ 7.],\n",
       "        [ 7.],\n",
       "        ...,\n",
       "        [ 4.],\n",
       "        [ 4.],\n",
       "        [ 4.]],\n",
       "\n",
       "       ...,\n",
       "\n",
       "       [[ 3.],\n",
       "        [ 3.],\n",
       "        [ 3.],\n",
       "        ...,\n",
       "        [ 4.],\n",
       "        [ 4.],\n",
       "        [ 4.]],\n",
       "\n",
       "       [[ 3.],\n",
       "        [ 3.],\n",
       "        [ 3.],\n",
       "        ...,\n",
       "        [ 4.],\n",
       "        [ 4.],\n",
       "        [ 4.]],\n",
       "\n",
       "       [[ 6.],\n",
       "        [ 6.],\n",
       "        [ 4.],\n",
       "        ...,\n",
       "        [ 4.],\n",
       "        [ 4.],\n",
       "        [ 4.]]])"
      ]
     },
     "execution_count": 349,
     "metadata": {},
     "output_type": "execute_result"
    }
   ],
   "source": [
    "m_max"
   ]
  },
  {
   "cell_type": "code",
   "execution_count": null,
   "metadata": {},
   "outputs": [],
   "source": []
  },
  {
   "cell_type": "code",
   "execution_count": null,
   "metadata": {},
   "outputs": [],
   "source": []
  }
 ],
 "metadata": {
  "kernelspec": {
   "display_name": "Python 3 + Jaspy",
   "language": "python",
   "name": "jaspy"
  },
  "language_info": {
   "codemirror_mode": {
    "name": "ipython",
    "version": 3
   },
   "file_extension": ".py",
   "mimetype": "text/x-python",
   "name": "python",
   "nbconvert_exporter": "python",
   "pygments_lexer": "ipython3",
   "version": "3.7.1"
  }
 },
 "nbformat": 4,
 "nbformat_minor": 4
}
